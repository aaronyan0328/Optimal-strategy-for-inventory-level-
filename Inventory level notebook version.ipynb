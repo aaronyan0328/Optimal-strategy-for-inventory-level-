{
 "cells": [
  {
   "cell_type": "markdown",
   "metadata": {},
   "source": [
    "# ORIE 5530 Final Project"
   ]
  },
  {
   "cell_type": "markdown",
   "metadata": {},
   "source": [
    "### By Yeri Chang(yc2635) and Chenyang Yan(cy477)"
   ]
  },
  {
   "cell_type": "code",
   "execution_count": 1,
   "metadata": {},
   "outputs": [],
   "source": [
    "import numpy as np\n",
    "import matplotlib.pyplot as plt\n",
    "import math\n",
    "from scipy.linalg import eig \n",
    "from scipy.stats import poisson\n",
    "import matplotlib.pyplot as plt"
   ]
  },
  {
   "cell_type": "markdown",
   "metadata": {},
   "source": [
    "## Part 1"
   ]
  },
  {
   "cell_type": "markdown",
   "metadata": {},
   "source": [
    "### （1）"
   ]
  },
  {
   "cell_type": "code",
   "execution_count": 2,
   "metadata": {},
   "outputs": [
    {
     "name": "stdout",
     "output_type": "stream",
     "text": [
      "The transition probability matrix is \n",
      "[[1.49272673e-19 7.46363363e-19 3.65718048e-18 ... 0.00000000e+00\n",
      "  0.00000000e+00 0.00000000e+00]\n",
      " [2.92691515e-20 1.49272673e-19 7.46363363e-19 ... 0.00000000e+00\n",
      "  0.00000000e+00 0.00000000e+00]\n",
      " [5.62868298e-21 2.92691515e-20 1.49272673e-19 ... 0.00000000e+00\n",
      "  0.00000000e+00 0.00000000e+00]\n",
      " ...\n",
      " [6.34347830e-44 5.07478264e-43 4.00907828e-42 ... 2.26999649e-03\n",
      "  4.53999298e-04 4.53999298e-05]\n",
      " [6.34347830e-44 5.07478264e-43 4.00907828e-42 ... 2.26999649e-03\n",
      "  4.53999298e-04 4.53999298e-05]\n",
      " [6.34347830e-44 5.07478264e-43 4.00907828e-42 ... 2.26999649e-03\n",
      "  4.53999298e-04 4.53999298e-05]]\n"
     ]
    }
   ],
   "source": [
    "states = [i for i in range(-30,51)]\n",
    "tpm = np.zeros((len(states),len(states)))\n",
    "for i in range(-30,51):\n",
    "    for j in range(-30,51):\n",
    "        if(50+i-j<0):\n",
    "            tpm[i+30,j+30] = 0\n",
    "        elif(i<0):\n",
    "            tpm[i+30,j+30] = np.exp(-10) * 10 ** (50+i-j) / math.factorial(50+i-j)\n",
    "        else:\n",
    "            tpm[i+30,j+30] = np.exp(-10) * 10 ** (50-j) / math.factorial(50-j)\n",
    "print(\"The transition probability matrix is \")\n",
    "print(tpm)"
   ]
  },
  {
   "cell_type": "markdown",
   "metadata": {},
   "source": [
    "### （2）"
   ]
  },
  {
   "cell_type": "code",
   "execution_count": 3,
   "metadata": {},
   "outputs": [
    {
     "name": "stdout",
     "output_type": "stream",
     "text": [
      "The stationary distribution is \n",
      "[-9.83724298e-42  6.99770012e-43  1.08810208e-40  3.16259480e-41\n",
      "  2.42471905e-40  1.83714878e-39  1.37556789e-38  1.01686572e-37\n",
      "  7.41964979e-37  5.34049617e-36  3.79116962e-35  2.65347851e-34\n",
      "  1.83078130e-33  1.24488058e-32  8.34051195e-32  5.50466852e-31\n",
      "  3.57801697e-30  2.28991970e-29  1.44264617e-28  8.94439380e-28\n",
      "  5.45607835e-27  3.27364597e-26  1.93145081e-25  1.12024140e-24\n",
      "  6.38537573e-24  3.57581034e-23  1.96669567e-22  1.06201566e-21\n",
      "  5.62868299e-21  2.92691515e-20  1.49272673e-19  7.46363363e-19\n",
      "  3.65718048e-18  1.75544663e-17  8.25059916e-17  3.79527561e-16\n",
      "  1.70787403e-15  7.51464571e-15  3.23129766e-14  1.35714502e-13\n",
      "  5.56429457e-13  2.22571783e-12  8.68029952e-12  3.29851382e-11\n",
      "  1.22045011e-10  4.39362041e-10  1.53776714e-09  5.22840828e-09\n",
      "  1.72537473e-08  5.52119915e-08  1.71157174e-07  5.13471521e-07\n",
      "  1.48906741e-06  4.16938875e-06  1.12573496e-05  2.92691090e-05\n",
      "  7.31727725e-05  1.75614654e-04  4.03913704e-04  8.88610150e-04\n",
      "  1.86608131e-03  3.73216263e-03  7.09110899e-03  1.27639962e-02\n",
      "  2.16987935e-02  3.47180696e-02  5.20771044e-02  7.29079462e-02\n",
      "  9.47803301e-02  1.13736396e-01  1.25110036e-01  1.25110036e-01\n",
      "  1.12599032e-01  9.00792257e-02  6.30554580e-02  3.78332748e-02\n",
      "  1.89166374e-02  7.56665496e-03  2.26999649e-03  4.53999298e-04\n",
      "  4.53999298e-05]\n"
     ]
    }
   ],
   "source": [
    "eigenvalues, eigenvectors = np.linalg.eig(tpm.T)\n",
    "evec = eigenvectors[:,np.isclose(eigenvalues, 1)]\n",
    "evec = evec[:,0]\n",
    "stationary = evec / evec.sum()\n",
    "#eigs finds complex eigenvalues and eigenvectors, we only need the real one.\n",
    "stationary = stationary.real\n",
    "print(\"The stationary distribution is \")\n",
    "print(stationary)"
   ]
  },
  {
   "cell_type": "markdown",
   "metadata": {},
   "source": [
    "#### a. long run average"
   ]
  },
  {
   "cell_type": "code",
   "execution_count": 4,
   "metadata": {},
   "outputs": [
    {
     "name": "stdout",
     "output_type": "stream",
     "text": [
      "The long run average is 40.0\n"
     ]
    }
   ],
   "source": [
    "# long run average\n",
    "average = np.dot(states,stationary)\n",
    "print(\"The long run average is \" + str(average))"
   ]
  },
  {
   "cell_type": "markdown",
   "metadata": {},
   "source": [
    "#### b. fraction of days where some customers are backlogged"
   ]
  },
  {
   "cell_type": "code",
   "execution_count": 5,
   "metadata": {},
   "outputs": [
    {
     "name": "stdout",
     "output_type": "stream",
     "text": [
      "The fraction of days where customers are backlogged is 3.6200015838577544e-20\n"
     ]
    }
   ],
   "source": [
    "# fraction of days\n",
    "fraction = 0\n",
    "for i in range(30):\n",
    "    fraction = fraction + stationary[i]\n",
    "print(\"The fraction of days where customers are backlogged is \"+ str(fraction))"
   ]
  },
  {
   "cell_type": "markdown",
   "metadata": {},
   "source": [
    "## Part 2"
   ]
  },
  {
   "cell_type": "markdown",
   "metadata": {},
   "source": [
    "### (1) Bellman equations\n",
    ">$ V(s) = max (r(x,s) + 0.9\\sum P_{xy}V(y))$\n",
    "\n",
    "> \\begin{gather}\n",
    "    V(s)=\n",
    "    \\begin{cases}\n",
    "      max (-(orders \\times c + |state| \\times h) + 0.9 \\sum P(s'|s,orders) * V(s')), & \\text{if state>=0}  \\\\\n",
    "      max (-(orders \\times c + |state| \\times b) + 0.9 \\sum P(s'|s,orders) * V(s')), & \\text{if state<0}\n",
    "    \\end{cases} \\\\\n",
    "\\end{gather}\n"
   ]
  },
  {
   "cell_type": "markdown",
   "metadata": {},
   "source": [
    "### (2)"
   ]
  },
  {
   "cell_type": "code",
   "execution_count": 11,
   "metadata": {},
   "outputs": [],
   "source": [
    "def reward(state, orders, c, b, h):\n",
    "    return -(orders * c + h * state * int(state>=0)  - b * state * int(state<0))\n",
    "\n",
    "def demand_p(demand):\n",
    "    return np.exp(-10) * 10 ** (demand) / math.factorial(demand)\n",
    "\n",
    "def value_iteration(lamda,c,b,h):\n",
    "    discount = 0.9\n",
    "    max_iter = 10\n",
    "    Vs = [np.zeros(131)]\n",
    "    pis = []   \n",
    "    for i in range(max_iter):\n",
    "        Vpre = Vs[-1]\n",
    "        V = np.zeros(131)\n",
    "        pi = np.zeros(131)\n",
    "        for state in range(-30,101):\n",
    "            maxv = -1000000\n",
    "            for orders in range(101 - state):\n",
    "                v = 0\n",
    "                tpm = get_partial_tpm(state, orders, lamda)\n",
    "                v = reward(state,orders,c,b,h) + discount * np.dot(tpm, Vpre)\n",
    "                if v > maxv:\n",
    "                    maxv = v\n",
    "                    pi[state + 30] = orders\n",
    "            V[state + 30] = maxv\n",
    "        Vs.append(V)\n",
    "        pis.append(pi)\n",
    "    return Vs[-1], pis[-1]\n",
    "\n",
    "def get_partial_tpm(state, orders, lamda):\n",
    "    partial_tpm = np.zeros(131)\n",
    "    for demand in range(state + orders + 30):\n",
    "        partial_tpm[state + orders + 30 - demand] = np.exp(-lamda) * lamda ** (demand) / math.factorial(demand)\n",
    "    partial_tpm[0] = 1 - sum(partial_tpm)\n",
    "    return partial_tpm\n"
   ]
  },
  {
   "cell_type": "markdown",
   "metadata": {},
   "source": [
    "### (3)"
   ]
  },
  {
   "cell_type": "markdown",
   "metadata": {},
   "source": [
    "### i) b = 10, h = 2"
   ]
  },
  {
   "cell_type": "code",
   "execution_count": 38,
   "metadata": {},
   "outputs": [],
   "source": [
    "value, optimal_strategy = value_iteration(15,1,10,2)"
   ]
  },
  {
   "cell_type": "code",
   "execution_count": 39,
   "metadata": {},
   "outputs": [
    {
     "name": "stdout",
     "output_type": "stream",
     "text": [
      "The optimal value at time 0 with 20 units in inventory is -182.44206846511105\n"
     ]
    }
   ],
   "source": [
    "print(\"The optimal value at time 0 with 20 units in inventory is \" + str(value[20 + 30]))"
   ]
  },
  {
   "cell_type": "code",
   "execution_count": 40,
   "metadata": {
    "scrolled": false
   },
   "outputs": [
    {
     "name": "stdout",
     "output_type": "stream",
     "text": [
      "[19.0, 19.0, 19.0, 19.0, 19.0, 19.0, 19.0, 19.0, 19.0, 19.0, 19.0, 19.0, 19.0, 19.0, 19.0, 19.0, 19.0, 19.0, 19.0, 19.0, 19.0, 19.0, 19.0, 19.0, 19.0, 19.0, 19.0, 19.0, 19.0, 19.0, 19.0, 19.0, 19.0, 19.0, 19.0, 19.0, 19.0, 19.0, 19.0, 19.0, 19.0, 19.0, 19.0, 19.0, 19.0, 19.0, 19.0, 19.0, 19.0, 19.0, 20.0, 21.0, 22.0, 23.0, 24.0, 25.0, 26.0, 27.0, 28.0, 29.0, 30.0, 31.0, 32.0, 33.0, 34.0, 35.0, 36.0, 37.0, 38.0, 39.0, 40.0, 41.0, 42.0, 43.0, 44.0, 45.0, 46.0, 47.0, 48.0, 49.0, 50.0, 51.0, 52.0, 53.0, 54.0, 55.0, 56.0, 57.0, 58.0, 59.0, 60.0, 61.0, 62.0, 63.0, 64.0, 65.0, 66.0, 67.0, 68.0, 69.0, 70.0, 71.0, 72.0, 73.0, 74.0, 75.0, 76.0, 77.0, 78.0, 79.0, 80.0, 81.0, 82.0, 83.0, 84.0, 85.0, 86.0, 87.0, 88.0, 89.0, 90.0, 91.0, 92.0, 93.0, 94.0, 95.0, 96.0, 97.0, 98.0, 99.0, 100.0]\n"
     ]
    }
   ],
   "source": [
    "v_order_up_to = [] \n",
    "for i in range(-30,101):\n",
    "    v_order_up_to.append(i + optimal_strategy[i + 30])\n",
    "print(v_order_up_to)"
   ]
  },
  {
   "cell_type": "code",
   "execution_count": 41,
   "metadata": {},
   "outputs": [
    {
     "name": "stdout",
     "output_type": "stream",
     "text": [
      "The optimal strategy in each states is\n"
     ]
    },
    {
     "data": {
      "text/plain": [
       "[<matplotlib.lines.Line2D at 0x7ffa8a737ef0>]"
      ]
     },
     "execution_count": 41,
     "metadata": {},
     "output_type": "execute_result"
    },
    {
     "data": {
      "image/png": "[encoded data removed]",
      "text/plain": [
       "<Figure size 432x288 with 1 Axes>"
      ]
     },
     "metadata": {
      "needs_background": "light"
     },
     "output_type": "display_data"
    }
   ],
   "source": [
    "print(\"The optimal strategy in each states is\")\n",
    "states = [i for i in range(-30,101)]\n",
    "plt.title(\"Order up to level for value iterations\")\n",
    "plt.plot(states,v_order_up_to)"
   ]
  },
  {
   "cell_type": "markdown",
   "metadata": {},
   "source": [
    "We find that the optimal strategy is when inventories are below 19, order up to 19, when the inventories are above 19, order nothing, for b = 10, h = 2"
   ]
  },
  {
   "cell_type": "markdown",
   "metadata": {},
   "source": [
    "### ii) b = 10, h = 5"
   ]
  },
  {
   "cell_type": "code",
   "execution_count": 42,
   "metadata": {},
   "outputs": [],
   "source": [
    "value, optimal_strategy = value_iteration(15,1,10,5)"
   ]
  },
  {
   "cell_type": "code",
   "execution_count": 43,
   "metadata": {},
   "outputs": [
    {
     "name": "stdout",
     "output_type": "stream",
     "text": [
      "The optimal value at time 0 with 20 units in inventory is -298.15739803373765\n"
     ]
    }
   ],
   "source": [
    "print(\"The optimal value at time 0 with 20 units in inventory is \" + str(value[20 + 30]))"
   ]
  },
  {
   "cell_type": "code",
   "execution_count": 44,
   "metadata": {},
   "outputs": [
    {
     "name": "stdout",
     "output_type": "stream",
     "text": [
      "[16.0, 16.0, 16.0, 16.0, 16.0, 16.0, 16.0, 16.0, 16.0, 16.0, 16.0, 16.0, 16.0, 16.0, 16.0, 16.0, 16.0, 16.0, 16.0, 16.0, 16.0, 16.0, 16.0, 16.0, 16.0, 16.0, 16.0, 16.0, 16.0, 16.0, 16.0, 16.0, 16.0, 16.0, 16.0, 16.0, 16.0, 16.0, 16.0, 16.0, 16.0, 16.0, 16.0, 16.0, 16.0, 16.0, 16.0, 17.0, 18.0, 19.0, 20.0, 21.0, 22.0, 23.0, 24.0, 25.0, 26.0, 27.0, 28.0, 29.0, 30.0, 31.0, 32.0, 33.0, 34.0, 35.0, 36.0, 37.0, 38.0, 39.0, 40.0, 41.0, 42.0, 43.0, 44.0, 45.0, 46.0, 47.0, 48.0, 49.0, 50.0, 51.0, 52.0, 53.0, 54.0, 55.0, 56.0, 57.0, 58.0, 59.0, 60.0, 61.0, 62.0, 63.0, 64.0, 65.0, 66.0, 67.0, 68.0, 69.0, 70.0, 71.0, 72.0, 73.0, 74.0, 75.0, 76.0, 77.0, 78.0, 79.0, 80.0, 81.0, 82.0, 83.0, 84.0, 85.0, 86.0, 87.0, 88.0, 89.0, 90.0, 91.0, 92.0, 93.0, 94.0, 95.0, 96.0, 97.0, 98.0, 99.0, 100.0]\n"
     ]
    }
   ],
   "source": [
    "v_order_up_to = [] \n",
    "for i in range(-30,101):\n",
    "    v_order_up_to.append(i + optimal_strategy[i + 30])\n",
    "print(v_order_up_to)"
   ]
  },
  {
   "cell_type": "code",
   "execution_count": 45,
   "metadata": {},
   "outputs": [
    {
     "name": "stdout",
     "output_type": "stream",
     "text": [
      "The optimal strategy in each states is\n"
     ]
    },
    {
     "data": {
      "text/plain": [
       "[<matplotlib.lines.Line2D at 0x7ffa8a701710>]"
      ]
     },
     "execution_count": 45,
     "metadata": {},
     "output_type": "execute_result"
    },
    {
     "data": {
      "image/png": "[encoded data removed]",
      "text/plain": [
       "<Figure size 432x288 with 1 Axes>"
      ]
     },
     "metadata": {
      "needs_background": "light"
     },
     "output_type": "display_data"
    }
   ],
   "source": [
    "print(\"The optimal strategy in each states is\")\n",
    "states = [i for i in range(-30,101)]\n",
    "plt.title(\"Order up to level for value iterations\")\n",
    "plt.plot(states,v_order_up_to)"
   ]
  },
  {
   "cell_type": "markdown",
   "metadata": {},
   "source": [
    "We find that the optimal strategy is when inventories are below 16, order up to 16, when the inventories are above 16, order nothing, for b = 10, h = 5"
   ]
  },
  {
   "cell_type": "markdown",
   "metadata": {},
   "source": [
    "### iii) b = 10, h = 10"
   ]
  },
  {
   "cell_type": "code",
   "execution_count": 46,
   "metadata": {},
   "outputs": [],
   "source": [
    "value, optimal_strategy = value_iteration(15,1,10,10)"
   ]
  },
  {
   "cell_type": "code",
   "execution_count": 47,
   "metadata": {},
   "outputs": [
    {
     "name": "stdout",
     "output_type": "stream",
     "text": [
      "The optimal value at time 0 with 20 units in inventory is -462.81340319160347\n"
     ]
    }
   ],
   "source": [
    "print(\"The optimal value at time 0 with 20 units in inventory is \" + str(value[20 + 30]))"
   ]
  },
  {
   "cell_type": "code",
   "execution_count": 48,
   "metadata": {},
   "outputs": [
    {
     "name": "stdout",
     "output_type": "stream",
     "text": [
      "[15.0, 15.0, 15.0, 15.0, 15.0, 15.0, 15.0, 15.0, 15.0, 15.0, 15.0, 15.0, 15.0, 15.0, 15.0, 15.0, 15.0, 15.0, 15.0, 15.0, 15.0, 15.0, 15.0, 15.0, 15.0, 15.0, 15.0, 15.0, 15.0, 15.0, 15.0, 15.0, 15.0, 15.0, 15.0, 15.0, 15.0, 15.0, 15.0, 15.0, 15.0, 15.0, 15.0, 15.0, 15.0, 15.0, 16.0, 17.0, 18.0, 19.0, 20.0, 21.0, 22.0, 23.0, 24.0, 25.0, 26.0, 27.0, 28.0, 29.0, 30.0, 31.0, 32.0, 33.0, 34.0, 35.0, 36.0, 37.0, 38.0, 39.0, 40.0, 41.0, 42.0, 43.0, 44.0, 45.0, 46.0, 47.0, 48.0, 49.0, 50.0, 51.0, 52.0, 53.0, 54.0, 55.0, 56.0, 57.0, 58.0, 59.0, 60.0, 61.0, 62.0, 63.0, 64.0, 65.0, 66.0, 67.0, 68.0, 69.0, 70.0, 71.0, 72.0, 73.0, 74.0, 75.0, 76.0, 77.0, 78.0, 79.0, 80.0, 81.0, 82.0, 83.0, 84.0, 85.0, 86.0, 87.0, 88.0, 89.0, 90.0, 91.0, 92.0, 93.0, 94.0, 95.0, 96.0, 97.0, 98.0, 99.0, 100.0]\n"
     ]
    }
   ],
   "source": [
    "v_order_up_to = [] \n",
    "for i in range(-30,101):\n",
    "    v_order_up_to.append(i + optimal_strategy[i + 30])\n",
    "print(v_order_up_to)"
   ]
  },
  {
   "cell_type": "code",
   "execution_count": 49,
   "metadata": {},
   "outputs": [
    {
     "name": "stdout",
     "output_type": "stream",
     "text": [
      "The optimal strategy in each states is\n"
     ]
    },
    {
     "data": {
      "text/plain": [
       "[<matplotlib.lines.Line2D at 0x7ffa8a898400>]"
      ]
     },
     "execution_count": 49,
     "metadata": {},
     "output_type": "execute_result"
    },
    {
     "data": {
      "image/png": "[encoded data removed]",
      "text/plain": [
       "<Figure size 432x288 with 1 Axes>"
      ]
     },
     "metadata": {
      "needs_background": "light"
     },
     "output_type": "display_data"
    }
   ],
   "source": [
    "print(\"The optimal strategy in each states is\")\n",
    "states = [i for i in range(-30,101)]\n",
    "plt.title(\"Order up to level for value iterations\")\n",
    "plt.plot(states,v_order_up_to)"
   ]
  },
  {
   "cell_type": "markdown",
   "metadata": {},
   "source": [
    "We find that the optimal strategy is when inventories are below 15, order up to 15, when the inventories are above 15, order nothing, for b = 10, h = 10."
   ]
  },
  {
   "cell_type": "markdown",
   "metadata": {},
   "source": [
    "### iv) b = 5, h = 10"
   ]
  },
  {
   "cell_type": "code",
   "execution_count": 50,
   "metadata": {},
   "outputs": [],
   "source": [
    "value, optimal_strategy = value_iteration(15,1,5,10)"
   ]
  },
  {
   "cell_type": "code",
   "execution_count": 51,
   "metadata": {},
   "outputs": [
    {
     "name": "stdout",
     "output_type": "stream",
     "text": [
      "The optimal value at time 0 with 20 units in inventory is -413.51768793621795\n"
     ]
    }
   ],
   "source": [
    "print(\"The optimal value at time 0 with 20 units in inventory is \" + str(value[20 + 30]))"
   ]
  },
  {
   "cell_type": "code",
   "execution_count": 52,
   "metadata": {},
   "outputs": [
    {
     "name": "stdout",
     "output_type": "stream",
     "text": [
      "[13.0, 13.0, 13.0, 13.0, 13.0, 13.0, 13.0, 13.0, 13.0, 13.0, 13.0, 13.0, 13.0, 13.0, 13.0, 13.0, 13.0, 13.0, 13.0, 13.0, 13.0, 13.0, 13.0, 13.0, 13.0, 13.0, 13.0, 13.0, 13.0, 13.0, 13.0, 13.0, 13.0, 13.0, 13.0, 13.0, 13.0, 13.0, 13.0, 13.0, 13.0, 13.0, 13.0, 13.0, 14.0, 15.0, 16.0, 17.0, 18.0, 19.0, 20.0, 21.0, 22.0, 23.0, 24.0, 25.0, 26.0, 27.0, 28.0, 29.0, 30.0, 31.0, 32.0, 33.0, 34.0, 35.0, 36.0, 37.0, 38.0, 39.0, 40.0, 41.0, 42.0, 43.0, 44.0, 45.0, 46.0, 47.0, 48.0, 49.0, 50.0, 51.0, 52.0, 53.0, 54.0, 55.0, 56.0, 57.0, 58.0, 59.0, 60.0, 61.0, 62.0, 63.0, 64.0, 65.0, 66.0, 67.0, 68.0, 69.0, 70.0, 71.0, 72.0, 73.0, 74.0, 75.0, 76.0, 77.0, 78.0, 79.0, 80.0, 81.0, 82.0, 83.0, 84.0, 85.0, 86.0, 87.0, 88.0, 89.0, 90.0, 91.0, 92.0, 93.0, 94.0, 95.0, 96.0, 97.0, 98.0, 99.0, 100.0]\n"
     ]
    }
   ],
   "source": [
    "v_order_up_to = [] \n",
    "for i in range(-30,101):\n",
    "    v_order_up_to.append(i + optimal_strategy[i + 30])\n",
    "print(v_order_up_to)"
   ]
  },
  {
   "cell_type": "code",
   "execution_count": 53,
   "metadata": {},
   "outputs": [
    {
     "name": "stdout",
     "output_type": "stream",
     "text": [
      "The optimal strategy in each states is\n"
     ]
    },
    {
     "data": {
      "text/plain": [
       "[<matplotlib.lines.Line2D at 0x7ffa8a944e48>]"
      ]
     },
     "execution_count": 53,
     "metadata": {},
     "output_type": "execute_result"
    },
    {
     "data": {
      "image/png": "[encoded data removed]",
      "text/plain": [
       "<Figure size 432x288 with 1 Axes>"
      ]
     },
     "metadata": {
      "needs_background": "light"
     },
     "output_type": "display_data"
    }
   ],
   "source": [
    "print(\"The optimal strategy in each states is\")\n",
    "states = [i for i in range(-30,101)]\n",
    "plt.title(\"Order up to level for value iterations\")\n",
    "plt.plot(states,v_order_up_to)"
   ]
  },
  {
   "cell_type": "markdown",
   "metadata": {},
   "source": [
    "We find that the optimal strategy is when inventories are below 13, order up to 13, when the inventories are above 13, order nothing, for b = 5, h = 10."
   ]
  },
  {
   "cell_type": "markdown",
   "metadata": {},
   "source": [
    "### v) b = 2, h = 10"
   ]
  },
  {
   "cell_type": "code",
   "execution_count": 54,
   "metadata": {},
   "outputs": [],
   "source": [
    "value, optimal_strategy = value_iteration(15,1,2,10)"
   ]
  },
  {
   "cell_type": "code",
   "execution_count": 55,
   "metadata": {},
   "outputs": [
    {
     "name": "stdout",
     "output_type": "stream",
     "text": [
      "The optimal value at time 0 with 20 units in inventory is -366.969958310827\n"
     ]
    }
   ],
   "source": [
    "print(\"The optimal value at time 0 with 20 units in inventory is \" + str(value[20 + 30]))"
   ]
  },
  {
   "cell_type": "code",
   "execution_count": 56,
   "metadata": {},
   "outputs": [
    {
     "name": "stdout",
     "output_type": "stream",
     "text": [
      "[11.0, 11.0, 11.0, 11.0, 11.0, 11.0, 11.0, 11.0, 11.0, 11.0, 11.0, 11.0, 11.0, 11.0, 11.0, 11.0, 11.0, 11.0, 11.0, 11.0, 11.0, 11.0, 11.0, 11.0, 11.0, 11.0, 11.0, 11.0, 11.0, 11.0, 11.0, 11.0, 11.0, 11.0, 11.0, 11.0, 11.0, 11.0, 11.0, 11.0, 11.0, 11.0, 12.0, 13.0, 14.0, 15.0, 16.0, 17.0, 18.0, 19.0, 20.0, 21.0, 22.0, 23.0, 24.0, 25.0, 26.0, 27.0, 28.0, 29.0, 30.0, 31.0, 32.0, 33.0, 34.0, 35.0, 36.0, 37.0, 38.0, 39.0, 40.0, 41.0, 42.0, 43.0, 44.0, 45.0, 46.0, 47.0, 48.0, 49.0, 50.0, 51.0, 52.0, 53.0, 54.0, 55.0, 56.0, 57.0, 58.0, 59.0, 60.0, 61.0, 62.0, 63.0, 64.0, 65.0, 66.0, 67.0, 68.0, 69.0, 70.0, 71.0, 72.0, 73.0, 74.0, 75.0, 76.0, 77.0, 78.0, 79.0, 80.0, 81.0, 82.0, 83.0, 84.0, 85.0, 86.0, 87.0, 88.0, 89.0, 90.0, 91.0, 92.0, 93.0, 94.0, 95.0, 96.0, 97.0, 98.0, 99.0, 100.0]\n"
     ]
    }
   ],
   "source": [
    "v_order_up_to = [] \n",
    "for i in range(-30,101):\n",
    "    v_order_up_to.append(i + optimal_strategy[i + 30])\n",
    "print(v_order_up_to)"
   ]
  },
  {
   "cell_type": "code",
   "execution_count": 57,
   "metadata": {},
   "outputs": [
    {
     "name": "stdout",
     "output_type": "stream",
     "text": [
      "The optimal strategy in each states is\n"
     ]
    },
    {
     "data": {
      "text/plain": [
       "[<matplotlib.lines.Line2D at 0x7ffa8aa11518>]"
      ]
     },
     "execution_count": 57,
     "metadata": {},
     "output_type": "execute_result"
    },
    {
     "data": {
      "image/png": "[encoded data removed]",
      "text/plain": [
       "<Figure size 432x288 with 1 Axes>"
      ]
     },
     "metadata": {
      "needs_background": "light"
     },
     "output_type": "display_data"
    }
   ],
   "source": [
    "print(\"The optimal strategy in each states is\")\n",
    "states = [i for i in range(-30,101)]\n",
    "plt.title(\"Order up to level for value iterations\")\n",
    "plt.plot(states,v_order_up_to)"
   ]
  },
  {
   "cell_type": "markdown",
   "metadata": {},
   "source": [
    "We find that the optimal strategy is when inventories are below 15, order up to 15, when the inventories are above 15, order nothing, for b = 2, h = 10."
   ]
  },
  {
   "cell_type": "markdown",
   "metadata": {},
   "source": [
    "To give a more clear sense, we put the graph together, the results are below."
   ]
  },
  {
   "cell_type": "code",
   "execution_count": 64,
   "metadata": {},
   "outputs": [
    {
     "data": {
      "text/plain": [
       "<matplotlib.legend.Legend at 0x7ffa8b0254a8>"
      ]
     },
     "execution_count": 64,
     "metadata": {},
     "output_type": "execute_result"
    },
    {
     "data": {
      "image/png": "[encoded data removed]",
      "text/plain": [
       "<Figure size 432x288 with 1 Axes>"
      ]
     },
     "metadata": {
      "needs_background": "light"
     },
     "output_type": "display_data"
    }
   ],
   "source": [
    "b = [10,10,10,5,2]\n",
    "h = [2,5,10,10,10]\n",
    "for i in range(5):\n",
    "    optimal_strategy = value_iteration(15,1,b[i],h[i])[1]\n",
    "    v_order_up_to = [] \n",
    "    for i in range(-30,101):\n",
    "        v_order_up_to.append(i + optimal_strategy[i + 30])\n",
    "    plt.plot(states,v_order_up_to)\n",
    "plt.legend([\"b = 10,h = 2\",\"b = 10,h = 5\",\"b = 10,h = 10\",\"b = 5,h = 10\",\"b = 2,h = 10\"])"
   ]
  },
  {
   "cell_type": "markdown",
   "metadata": {},
   "source": [
    "We can find from the graph that when the ratio of b/h decreases, the order up to level decreases as well. That make senses because when the cost of keeping backlogged decreases, we don't need to keep a high inventory as orders as well costs money."
   ]
  },
  {
   "cell_type": "markdown",
   "metadata": {},
   "source": [
    "## Part 3"
   ]
  },
  {
   "cell_type": "markdown",
   "metadata": {},
   "source": [
    "### (1) and (2)"
   ]
  },
  {
   "cell_type": "markdown",
   "metadata": {},
   "source": [
    "We implement the argmax function myself if order to deal with multiple same max value conditions, the function will randomly choose an index among them. \n",
    "And besides each iterations, the start state is changed to encourage explore of the whole state space. The step size is set to 1/t^0.55, the discount factor is set to 0.9 and we use epsilon greedy method the choose the action it should take, with epsilon equals to 0.2.\n",
    "We also choose the start q value to be 100 to encourage the exploration of unknow state action pairs, as after experiments, the updated states q value will drop because reward is negative."
   ]
  },
  {
   "cell_type": "code",
   "execution_count": 14,
   "metadata": {},
   "outputs": [],
   "source": [
    "def reward(state, orders, c, b, h):\n",
    "    return -(orders * c + h * state * int(state>=0)  - b * state * int(state<0))\n",
    "\n",
    "def argmax(q_values):\n",
    "    top = float(\"-inf\")\n",
    "    ties = []\n",
    "    for i in range(len(q_values)):\n",
    "        if q_values[i] > top:\n",
    "            top = q_values[i]\n",
    "            ties = []\n",
    "        if q_values[i] == top:\n",
    "            ties.append(i)\n",
    "    return np.random.choice(ties)\n",
    "\n",
    "def Q_learning(lamda,c,b,h):\n",
    "    discount = 0.9\n",
    "    max_iter = 100\n",
    "    visting_state = []\n",
    "    q_value = []\n",
    "    for i in range(131):\n",
    "        q_value.append([100 for j in range(131 - i)])\n",
    "    epsilon = 0.2\n",
    "    for runs in range(100):\n",
    "        for start_states in range(-30,0):\n",
    "            prev_state = start_states\n",
    "            visting_state.append(prev_state)\n",
    "            t = 1\n",
    "            for i in range(max_iter):\n",
    "                step_size = 1/t**(0.55)\n",
    "                current_q = q_value[prev_state + 30][:]\n",
    "                if np.random.rand() < epsilon:\n",
    "                    orders = np.random.randint(len(current_q))\n",
    "                else:\n",
    "                    orders = argmax(current_q)\n",
    "                next_state = get_next_state(prev_state, orders, lamda)\n",
    "                q_value[prev_state + 30][orders] = (q_value[prev_state + 30][orders] + step_size * \n",
    "                                                    (reward(prev_state, orders, c, b, h) \n",
    "                                                     + discount * np.max(q_value[next_state + 30]) \n",
    "                                                     - q_value[prev_state + 30][orders]))\n",
    "                prev_state = next_state\n",
    "                t = t + 1\n",
    "                visting_state.append(prev_state)\n",
    "    for runs in range(10):\n",
    "        for start_states in range(0,101):\n",
    "            prev_state = start_states\n",
    "            t = 1\n",
    "            visting_state.append(prev_state)\n",
    "            for i in range(max_iter):\n",
    "                step_size = 1/t**(0.55)\n",
    "                current_q = q_value[prev_state + 30][:]\n",
    "                if np.random.rand() < epsilon:\n",
    "                    orders = np.random.randint(len(current_q))\n",
    "                else:\n",
    "                    orders = argmax(current_q)\n",
    "                next_state = get_next_state(prev_state, orders, lamda)\n",
    "                q_value[prev_state + 30][orders] = (q_value[prev_state + 30][orders] + step_size * \n",
    "                                                    (reward(prev_state, orders, c, b, h) \n",
    "                                                     + discount * np.max(q_value[next_state + 30]) \n",
    "                                                     - q_value[prev_state + 30][orders]))\n",
    "                prev_state = next_state\n",
    "                t = t + 1\n",
    "                visting_state.append(prev_state)\n",
    "    return q_value,visting_state\n",
    "\n",
    "def get_next_state(state, orders, lamda):\n",
    "    partial_tpm = np.zeros(131)\n",
    "    for demand in range(state + orders + 30):\n",
    "        partial_tpm[state + orders + 30 - demand] = np.exp(-lamda) * lamda ** (demand) / math.factorial(demand)\n",
    "    partial_tpm[0] = 1 - sum(partial_tpm)\n",
    "    return np.random.choice(131,p = partial_tpm) - 30"
   ]
  },
  {
   "cell_type": "code",
   "execution_count": null,
   "metadata": {
    "scrolled": false
   },
   "outputs": [],
   "source": [
    "q_value,visting_state = Q_learning(15,1,10,2)"
   ]
  },
  {
   "cell_type": "markdown",
   "metadata": {},
   "source": [
    "We check the frequency of visiting each states. And we found that not all states are visited as frequently as others due to the Q learning algorithm. Especially the states when the inventory is high are not always visited."
   ]
  },
  {
   "cell_type": "code",
   "execution_count": null,
   "metadata": {},
   "outputs": [],
   "source": [
    "for i in range(131):\n",
    "    if visting_state.count(i-30) == 500:\n",
    "        print(\"The state with inventory equals to \" + str(i - 30) + \" has a visit amount smaller than 500\")"
   ]
  },
  {
   "cell_type": "markdown",
   "metadata": {},
   "source": [
    "This part below is aiming to get rid of q value that is still 100, so that states-action part that completely not visitied will not be counted. But since we've run enough experiments, there are no such states. \n",
    "We still run this part just to make sure that if we are not running a lot of experiments, this part of algorithm can help us get rid of outliers."
   ]
  },
  {
   "cell_type": "code",
   "execution_count": null,
   "metadata": {},
   "outputs": [],
   "source": [
    "states = [i for i in range(-30,101)]\n",
    "order_amount = []\n",
    "for i in range(131):\n",
    "    l = []\n",
    "    for index in range(len(q_value[i])):\n",
    "        if q_value[i][index] != 100:\n",
    "            l.append(q_value[i][index])\n",
    "    temp_array = []\n",
    "    for index in np.argsort(l)[-10:]:\n",
    "        temp_array.append(index)\n",
    "    temp_array = np.array(temp_array)\n",
    "#     if (len(temp_array) >= 10):\n",
    "#         mean = np.mean(temp_array)\n",
    "#         standard_deviation = np.std(temp_array)\n",
    "#         distance_from_mean = abs(temp_array - mean)\n",
    "#         max_deviations = 2\n",
    "#         not_outlier = distance_from_mean < max_deviations * standard_deviation\n",
    "#         no_outliers = temp_array[not_outlier]\n",
    "#         order_amount.append(no_outliers[-1])\n",
    "#     else:\n",
    "    order_amount.append(temp_array[-1])\n",
    "\n",
    "q_order_up_to = [] \n",
    "for i in range(-30,101):\n",
    "    q_order_up_to.append(i + order_amount[i + 30])"
   ]
  },
  {
   "cell_type": "code",
   "execution_count": null,
   "metadata": {},
   "outputs": [],
   "source": [
    "value, optimal_strategy = value_iteration(15,1,10,2)\n",
    "v_order_up_to = [] \n",
    "for i in range(-30,101):\n",
    "    v_order_up_to.append(i + optimal_strategy[i + 30])"
   ]
  },
  {
   "cell_type": "code",
   "execution_count": null,
   "metadata": {
    "scrolled": true
   },
   "outputs": [],
   "source": [
    "plt.scatter(states,q_order_up_to)\n",
    "plt.title(\"Order up to level\")\n",
    "plt.plot(states,v_order_up_to,color = 'r')\n",
    "plt.legend([\"Value iteration\",\"Q learning\"])"
   ]
  },
  {
   "cell_type": "markdown",
   "metadata": {},
   "source": [
    "We can find from the graph that there are some unstable jumps in the first few states, but the main trend stays the same that when inventory is below 19, bring the inventory up to 19 and when inventory is above 19, we order nothing. The Q learning converges to value iterations after enough runs."
   ]
  }
 ],
 "metadata": {
  "kernelspec": {
   "display_name": "Python 3",
   "language": "python",
   "name": "python3"
  },
  "language_info": {
   "codemirror_mode": {
    "name": "ipython",
    "version": 3
   },
   "file_extension": ".py",
   "mimetype": "text/x-python",
   "name": "python",
   "nbconvert_exporter": "python",
   "pygments_lexer": "ipython3",
   "version": "3.7.3"
  }
 },
 "nbformat": 4,
 "nbformat_minor": 2
}
